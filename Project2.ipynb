{
  "nbformat": 4,
  "nbformat_minor": 0,
  "metadata": {
    "colab": {
      "provenance": [],
      "include_colab_link": true
    },
    "kernelspec": {
      "name": "python3",
      "display_name": "Python 3"
    },
    "language_info": {
      "name": "python"
    },
    "accelerator": "GPU",
    "gpuClass": "standard"
  },
  "cells": [
    {
      "cell_type": "markdown",
      "metadata": {
        "id": "view-in-github",
        "colab_type": "text"
      },
      "source": [
        "<a href=\"https://colab.research.google.com/github/emvalt/CS167Fall22Notebook5/blob/main/Project2.ipynb\" target=\"_parent\"><img src=\"https://colab.research.google.com/assets/colab-badge.svg\" alt=\"Open In Colab\"/></a>"
      ]
    },
    {
      "cell_type": "markdown",
      "source": [
        "# Project #2\n",
        "##Name: Emily Valtman\n",
        "\n",
        "Proposed Points (out of 25):"
      ],
      "metadata": {
        "id": "rIepkBIuT_Pl"
      }
    },
    {
      "cell_type": "markdown",
      "source": [
        "# 1. Problem\n",
        "State the problem you are trying to solve with this machine learning experiment. Include a description of the data, where you got the data, and what you're trying to predict.."
      ],
      "metadata": {
        "id": "HbwKLNhzP8YO"
      }
    },
    {
      "cell_type": "markdown",
      "source": [
        "I am trying to see what model will predict if there is more of a chance or less of a chance of a patient having a heart attack based on the predictors, which include age, gender, whether or not the patient has had exercise induced angina, number of major vassels (0-3), chest pain type 1-4 (1. typical angina, 2. atypical angina, 3. non-anginal pain, 4. asymptomatic), resting blood pressure in mm Hg, cholestoral in mg/dl fetched via BMI sensor, fasting blood sugar > 120 mg/dl) (0 = false,     1 = true), resting electrocardiographic results (0: normal, 1: having ST-T wave abnormality; meaning T wave inversions and/or ST elevation or depression of > 0.05 mV, 2: showing probable or definite left ventricular hypertrophy by Estes' criteria), thalach or maximum heart rate achieved (0: more chance of heart attack, 1: less chance of heart attack), old peak. I got my data off of Kaggle. I am interested in this data and predicting more or less of a chance of a patient having a heart attack because my dad has always had minor heart problems. He had open heart surgery a few years ago because one of his valves wasn't pumping blood properly. Now, a few years later, his resting heart rate is around 120 bpm. The doctors don't know why because he is an extremely healthy guy for his age. I am a little worried about him but I am interested to see what some of our models from class will predict for these patients based on their numbers for the predictors. This data set is clean and exclusively says \"a dataset for heart attack classification\"."
      ],
      "metadata": {
        "id": "LwseoUsMmCz2"
      }
    },
    {
      "cell_type": "markdown",
      "source": [
        "# 2. Data Preparation\n",
        "Explain your data preparation. What did you have to do to get your data in shape for your experiments? Why are you certain that you data is clean and prepared for use in your algorithms?"
      ],
      "metadata": {
        "id": "qR_foVOeQVL7"
      }
    },
    {
      "cell_type": "markdown",
      "source": [
        "One of the first things I checked when cleaning/preparing my data for these experiments, I checked for any null values. Shockingly there were none! (amazing, that saved some time). After seeing there were no null values, I was excited and almost certain my data was clean and ready because based on what Kaggle said about the data set, I could tell it was clean and fairly easy to use. I knew this because there was a lot of information about the data set. There are explanations for all the predictors I will be using, and there is a lot of extra information including dicussions between people that used it, 104,111 downloads, and 639,933 views. All this said, it is clear a lot of people have not only considered the data set for use, but a lot of people have used it for purposes similar to mine for this project.\n",
        "\n",
        "Another thing I did not have to do to clean my data was convert floats to integers because there were no floats! This also eliminated having to make any dummy variables. I did not purposely pick this data set because I was not genius enough to think ahead and consider no null values and also no floats. Although I didn't, I am really happy the data set I chose based on the information and predictors was also clean and ready to be used!"
      ],
      "metadata": {
        "id": "aMDJDnW_mOWu"
      }
    },
    {
      "cell_type": "markdown",
      "source": [
        "# 3. Research\n",
        "\n",
        "Put your code and your experiments here."
      ],
      "metadata": {
        "id": "Hc7HMmNPR10W"
      }
    },
    {
      "cell_type": "code",
      "source": [
        "# mount drive\n",
        "from google.colab import drive\n",
        "drive.mount('/content/drive')"
      ],
      "metadata": {
        "colab": {
          "base_uri": "https://localhost:8080/"
        },
        "id": "g2FdAFd0vTx3",
        "outputId": "308b6978-4a64-4fd7-e64d-690ba785ca72"
      },
      "execution_count": 1,
      "outputs": [
        {
          "output_type": "stream",
          "name": "stdout",
          "text": [
            "Mounted at /content/drive\n"
          ]
        }
      ]
    },
    {
      "cell_type": "code",
      "source": [
        "# import libraries\n",
        "import sklearn\n",
        "import pandas\n",
        "from sklearn import tree\n",
        "from sklearn.model_selection import train_test_split\n",
        "from sklearn import metrics\n",
        "from sklearn import neighbors\n",
        "\n",
        "# load data\n",
        "heart_data = pandas.read_csv('/content/drive/MyDrive/CS167Datasets/heart.csv')"
      ],
      "metadata": {
        "id": "VVhBInn9vUdl"
      },
      "execution_count": 2,
      "outputs": []
    },
    {
      "cell_type": "markdown",
      "source": [
        "Looking at the data to see what I am working with. Very pleased to see there are no floats."
      ],
      "metadata": {
        "id": "2JrdNk2KSrzr"
      }
    },
    {
      "cell_type": "code",
      "source": [
        "heart_data.head()"
      ],
      "metadata": {
        "colab": {
          "base_uri": "https://localhost:8080/",
          "height": 206
        },
        "id": "38KIR2-aw2eB",
        "outputId": "c0b5f33e-abbe-466b-8c3d-5ccf7f7f5e18"
      },
      "execution_count": 7,
      "outputs": [
        {
          "output_type": "execute_result",
          "data": {
            "text/plain": [
              "   age  sex  cp  trtbps  chol  fbs  restecg  thalachh  exng  oldpeak  slp  \\\n",
              "0   63    1   3     145   233    1        0       150     0      2.3    0   \n",
              "1   37    1   2     130   250    0        1       187     0      3.5    0   \n",
              "2   41    0   1     130   204    0        0       172     0      1.4    2   \n",
              "3   56    1   1     120   236    0        1       178     0      0.8    2   \n",
              "4   57    0   0     120   354    0        1       163     1      0.6    2   \n",
              "\n",
              "   caa  thall  output  \n",
              "0    0      1       1  \n",
              "1    0      2       1  \n",
              "2    0      2       1  \n",
              "3    0      2       1  \n",
              "4    0      2       1  "
            ],
            "text/html": [
              "\n",
              "  <div id=\"df-bb737a02-00e4-4191-b40a-ac6c1a7fedcb\">\n",
              "    <div class=\"colab-df-container\">\n",
              "      <div>\n",
              "<style scoped>\n",
              "    .dataframe tbody tr th:only-of-type {\n",
              "        vertical-align: middle;\n",
              "    }\n",
              "\n",
              "    .dataframe tbody tr th {\n",
              "        vertical-align: top;\n",
              "    }\n",
              "\n",
              "    .dataframe thead th {\n",
              "        text-align: right;\n",
              "    }\n",
              "</style>\n",
              "<table border=\"1\" class=\"dataframe\">\n",
              "  <thead>\n",
              "    <tr style=\"text-align: right;\">\n",
              "      <th></th>\n",
              "      <th>age</th>\n",
              "      <th>sex</th>\n",
              "      <th>cp</th>\n",
              "      <th>trtbps</th>\n",
              "      <th>chol</th>\n",
              "      <th>fbs</th>\n",
              "      <th>restecg</th>\n",
              "      <th>thalachh</th>\n",
              "      <th>exng</th>\n",
              "      <th>oldpeak</th>\n",
              "      <th>slp</th>\n",
              "      <th>caa</th>\n",
              "      <th>thall</th>\n",
              "      <th>output</th>\n",
              "    </tr>\n",
              "  </thead>\n",
              "  <tbody>\n",
              "    <tr>\n",
              "      <th>0</th>\n",
              "      <td>63</td>\n",
              "      <td>1</td>\n",
              "      <td>3</td>\n",
              "      <td>145</td>\n",
              "      <td>233</td>\n",
              "      <td>1</td>\n",
              "      <td>0</td>\n",
              "      <td>150</td>\n",
              "      <td>0</td>\n",
              "      <td>2.3</td>\n",
              "      <td>0</td>\n",
              "      <td>0</td>\n",
              "      <td>1</td>\n",
              "      <td>1</td>\n",
              "    </tr>\n",
              "    <tr>\n",
              "      <th>1</th>\n",
              "      <td>37</td>\n",
              "      <td>1</td>\n",
              "      <td>2</td>\n",
              "      <td>130</td>\n",
              "      <td>250</td>\n",
              "      <td>0</td>\n",
              "      <td>1</td>\n",
              "      <td>187</td>\n",
              "      <td>0</td>\n",
              "      <td>3.5</td>\n",
              "      <td>0</td>\n",
              "      <td>0</td>\n",
              "      <td>2</td>\n",
              "      <td>1</td>\n",
              "    </tr>\n",
              "    <tr>\n",
              "      <th>2</th>\n",
              "      <td>41</td>\n",
              "      <td>0</td>\n",
              "      <td>1</td>\n",
              "      <td>130</td>\n",
              "      <td>204</td>\n",
              "      <td>0</td>\n",
              "      <td>0</td>\n",
              "      <td>172</td>\n",
              "      <td>0</td>\n",
              "      <td>1.4</td>\n",
              "      <td>2</td>\n",
              "      <td>0</td>\n",
              "      <td>2</td>\n",
              "      <td>1</td>\n",
              "    </tr>\n",
              "    <tr>\n",
              "      <th>3</th>\n",
              "      <td>56</td>\n",
              "      <td>1</td>\n",
              "      <td>1</td>\n",
              "      <td>120</td>\n",
              "      <td>236</td>\n",
              "      <td>0</td>\n",
              "      <td>1</td>\n",
              "      <td>178</td>\n",
              "      <td>0</td>\n",
              "      <td>0.8</td>\n",
              "      <td>2</td>\n",
              "      <td>0</td>\n",
              "      <td>2</td>\n",
              "      <td>1</td>\n",
              "    </tr>\n",
              "    <tr>\n",
              "      <th>4</th>\n",
              "      <td>57</td>\n",
              "      <td>0</td>\n",
              "      <td>0</td>\n",
              "      <td>120</td>\n",
              "      <td>354</td>\n",
              "      <td>0</td>\n",
              "      <td>1</td>\n",
              "      <td>163</td>\n",
              "      <td>1</td>\n",
              "      <td>0.6</td>\n",
              "      <td>2</td>\n",
              "      <td>0</td>\n",
              "      <td>2</td>\n",
              "      <td>1</td>\n",
              "    </tr>\n",
              "  </tbody>\n",
              "</table>\n",
              "</div>\n",
              "      <button class=\"colab-df-convert\" onclick=\"convertToInteractive('df-bb737a02-00e4-4191-b40a-ac6c1a7fedcb')\"\n",
              "              title=\"Convert this dataframe to an interactive table.\"\n",
              "              style=\"display:none;\">\n",
              "        \n",
              "  <svg xmlns=\"http://www.w3.org/2000/svg\" height=\"24px\"viewBox=\"0 0 24 24\"\n",
              "       width=\"24px\">\n",
              "    <path d=\"M0 0h24v24H0V0z\" fill=\"none\"/>\n",
              "    <path d=\"M18.56 5.44l.94 2.06.94-2.06 2.06-.94-2.06-.94-.94-2.06-.94 2.06-2.06.94zm-11 1L8.5 8.5l.94-2.06 2.06-.94-2.06-.94L8.5 2.5l-.94 2.06-2.06.94zm10 10l.94 2.06.94-2.06 2.06-.94-2.06-.94-.94-2.06-.94 2.06-2.06.94z\"/><path d=\"M17.41 7.96l-1.37-1.37c-.4-.4-.92-.59-1.43-.59-.52 0-1.04.2-1.43.59L10.3 9.45l-7.72 7.72c-.78.78-.78 2.05 0 2.83L4 21.41c.39.39.9.59 1.41.59.51 0 1.02-.2 1.41-.59l7.78-7.78 2.81-2.81c.8-.78.8-2.07 0-2.86zM5.41 20L4 18.59l7.72-7.72 1.47 1.35L5.41 20z\"/>\n",
              "  </svg>\n",
              "      </button>\n",
              "      \n",
              "  <style>\n",
              "    .colab-df-container {\n",
              "      display:flex;\n",
              "      flex-wrap:wrap;\n",
              "      gap: 12px;\n",
              "    }\n",
              "\n",
              "    .colab-df-convert {\n",
              "      background-color: #E8F0FE;\n",
              "      border: none;\n",
              "      border-radius: 50%;\n",
              "      cursor: pointer;\n",
              "      display: none;\n",
              "      fill: #1967D2;\n",
              "      height: 32px;\n",
              "      padding: 0 0 0 0;\n",
              "      width: 32px;\n",
              "    }\n",
              "\n",
              "    .colab-df-convert:hover {\n",
              "      background-color: #E2EBFA;\n",
              "      box-shadow: 0px 1px 2px rgba(60, 64, 67, 0.3), 0px 1px 3px 1px rgba(60, 64, 67, 0.15);\n",
              "      fill: #174EA6;\n",
              "    }\n",
              "\n",
              "    [theme=dark] .colab-df-convert {\n",
              "      background-color: #3B4455;\n",
              "      fill: #D2E3FC;\n",
              "    }\n",
              "\n",
              "    [theme=dark] .colab-df-convert:hover {\n",
              "      background-color: #434B5C;\n",
              "      box-shadow: 0px 1px 3px 1px rgba(0, 0, 0, 0.15);\n",
              "      filter: drop-shadow(0px 1px 2px rgba(0, 0, 0, 0.3));\n",
              "      fill: #FFFFFF;\n",
              "    }\n",
              "  </style>\n",
              "\n",
              "      <script>\n",
              "        const buttonEl =\n",
              "          document.querySelector('#df-bb737a02-00e4-4191-b40a-ac6c1a7fedcb button.colab-df-convert');\n",
              "        buttonEl.style.display =\n",
              "          google.colab.kernel.accessAllowed ? 'block' : 'none';\n",
              "\n",
              "        async function convertToInteractive(key) {\n",
              "          const element = document.querySelector('#df-bb737a02-00e4-4191-b40a-ac6c1a7fedcb');\n",
              "          const dataTable =\n",
              "            await google.colab.kernel.invokeFunction('convertToInteractive',\n",
              "                                                     [key], {});\n",
              "          if (!dataTable) return;\n",
              "\n",
              "          const docLinkHtml = 'Like what you see? Visit the ' +\n",
              "            '<a target=\"_blank\" href=https://colab.research.google.com/notebooks/data_table.ipynb>data table notebook</a>'\n",
              "            + ' to learn more about interactive tables.';\n",
              "          element.innerHTML = '';\n",
              "          dataTable['output_type'] = 'display_data';\n",
              "          await google.colab.output.renderOutput(dataTable, element);\n",
              "          const docLink = document.createElement('div');\n",
              "          docLink.innerHTML = docLinkHtml;\n",
              "          element.appendChild(docLink);\n",
              "        }\n",
              "      </script>\n",
              "    </div>\n",
              "  </div>\n",
              "  "
            ]
          },
          "metadata": {},
          "execution_count": 7
        }
      ]
    },
    {
      "cell_type": "code",
      "source": [
        "heart_data.shape"
      ],
      "metadata": {
        "colab": {
          "base_uri": "https://localhost:8080/"
        },
        "id": "2vrfV55ISzb_",
        "outputId": "ffecf8b7-1522-41a7-8db3-11e8d5ce04dc"
      },
      "execution_count": 5,
      "outputs": [
        {
          "output_type": "execute_result",
          "data": {
            "text/plain": [
              "(303, 14)"
            ]
          },
          "metadata": {},
          "execution_count": 5
        }
      ]
    },
    {
      "cell_type": "markdown",
      "source": [
        "There are 303 patients, and 14 columns. Not a huge data set, but the predictors will be great at predicting if a patient has a lower higher chance of a heart attack. (this is my pre-experiment assumption)."
      ],
      "metadata": {
        "id": "xm7UnID1TKQ7"
      }
    },
    {
      "cell_type": "code",
      "source": [
        "# code goes here... don't forget to include graphs. Professor Urness loves graphs."
      ],
      "metadata": {
        "id": "XfaACsEOR4U5"
      },
      "execution_count": null,
      "outputs": []
    },
    {
      "cell_type": "markdown",
      "source": [
        "Checking to see what predictors have null values. Shockingly there are no null values, which is great news!"
      ],
      "metadata": {
        "id": "OCKjGBGza892"
      }
    },
    {
      "cell_type": "code",
      "source": [
        "heart_data.isna().any()"
      ],
      "metadata": {
        "colab": {
          "base_uri": "https://localhost:8080/"
        },
        "id": "p8SDP9_Ha8Yv",
        "outputId": "deda15f9-cb61-40a6-9cb9-e5fc45fbb25b"
      },
      "execution_count": 13,
      "outputs": [
        {
          "output_type": "execute_result",
          "data": {
            "text/plain": [
              "age         False\n",
              "sex         False\n",
              "cp          False\n",
              "trtbps      False\n",
              "chol        False\n",
              "fbs         False\n",
              "restecg     False\n",
              "thalachh    False\n",
              "exng        False\n",
              "oldpeak     False\n",
              "slp         False\n",
              "caa         False\n",
              "thall       False\n",
              "output      False\n",
              "dtype: bool"
            ]
          },
          "metadata": {},
          "execution_count": 13
        }
      ]
    },
    {
      "cell_type": "markdown",
      "source": [
        "Splitting the data into the training and testing sets with the cleaned data (the original data). Using output as the target since that is what we are want to predict. Output is the chances of being more or less likely for a heart attack."
      ],
      "metadata": {
        "id": "b8PfMFUoT0qa"
      }
    },
    {
      "cell_type": "markdown",
      "source": [
        "## Regression Models ##"
      ],
      "metadata": {
        "id": "NZ8Jm_UqdI12"
      }
    },
    {
      "cell_type": "code",
      "source": [
        "target= 'output'\n",
        "predictors = heart_data.columns.drop(target) \n",
        "train_data, test_data, train_sln, test_sln = train_test_split(heart_data[predictors], heart_data[target], test_size = 0.2, random_state=41)"
      ],
      "metadata": {
        "id": "lvtXYr4uTwbX"
      },
      "execution_count": 8,
      "outputs": []
    },
    {
      "cell_type": "code",
      "source": [
        "from sklearn.preprocessing import StandardScaler\n",
        "scaler = StandardScaler()\n",
        "scaler.fit(train_data)\n",
        "train_data_normalized = scaler.transform(train_data)\n",
        "test_data_normalized = scaler.transform(test_data)"
      ],
      "metadata": {
        "id": "NmCha2pkUltg"
      },
      "execution_count": 9,
      "outputs": []
    },
    {
      "cell_type": "code",
      "source": [
        "# creating the regression model for knn\n",
        "neigh = neighbors.KNeighborsRegressor(n_neighbors=28) \n",
        "\n",
        "neigh.fit(train_data_normalized, train_sln)\n",
        "predictions = neigh.predict(test_data_normalized)\n",
        "\n",
        "print('MSE: ', metrics.mean_squared_error(test_sln, predictions))\n",
        "print('r2: ', metrics.r2_score(test_sln, predictions))\n",
        "\n",
        "# graphing the knn regression model\n",
        "import matplotlib.pyplot as plt\n",
        "%matplotlib inline\n",
        "\n",
        "k_vals = range(1,25)\n",
        "r2_vals = []\n",
        "\n",
        "for k in k_vals:\n",
        "    neigh = neighbors.KNeighborsRegressor(n_neighbors=k)\n",
        "    neigh.fit(train_data_normalized, train_sln)\n",
        "    predictions = neigh.predict(test_data_normalized)\n",
        "    r2_val = sklearn.metrics.r2_score(test_sln,predictions)\n",
        "    r2_vals.append(r2_val)\n",
        "\n",
        "plt.suptitle('R^2 Heart Data vs. k -- kNN Results',fontsize=18)\n",
        "plt.xlabel('k')\n",
        "plt.ylabel('r^2')\n",
        "plt.plot(k_vals,r2_vals,'ro-',label='r^2 values')\n",
        "plt.legend(loc='lower right', shadow=True)\n",
        "plt.axis([0,25,0,.5])\n",
        "plt.show()"
      ],
      "metadata": {
        "colab": {
          "base_uri": "https://localhost:8080/",
          "height": 344
        },
        "id": "TiwrCVJpVQIX",
        "outputId": "91022315-4ad0-48be-dc9b-5abc24a1fb82"
      },
      "execution_count": 41,
      "outputs": [
        {
          "output_type": "stream",
          "name": "stdout",
          "text": [
            "MSE:  0.13813148210103712\n",
            "r2:  0.44613443437719924\n"
          ]
        },
        {
          "output_type": "display_data",
          "data": {
            "text/plain": [
              "<Figure size 432x288 with 1 Axes>"
            ],
            "image/png": "[encoded data removed]"
          },
          "metadata": {
            "needs_background": "light"
          }
        }
      ]
    },
    {
      "cell_type": "code",
      "source": [
        "# Creating the regression model for weighted knn\n",
        "neigh = neighbors.KNeighborsRegressor(n_neighbors=28, weights='distance')\n",
        "neigh.fit(train_data_normalized, train_sln)\n",
        "predictions = neigh.predict(test_data_normalized)\n",
        "\n",
        "print('MSE: ', metrics.mean_squared_error(test_sln, predictions))\n",
        "print('r2: ', metrics.r2_score(test_sln, predictions))\n",
        "\n",
        "# graphing the weighted knn regression model\n",
        "import matplotlib.pyplot as plt\n",
        "%matplotlib inline\n",
        "\n",
        "k_vals = range(1,25)\n",
        "r2_vals = []\n",
        "\n",
        "for k in k_vals:\n",
        "    neigh = neighbors.KNeighborsRegressor(weights='distance',n_neighbors=k)\n",
        "    neigh.fit(train_data_normalized, train_sln)\n",
        "    predictions = neigh.predict(test_data_normalized)\n",
        "    r2_val = sklearn.metrics.r2_score(test_sln,predictions)\n",
        "    r2_vals.append(r2_val)\n",
        "\n",
        "plt.suptitle('Heart Data vs. Weighted k -- kNN Results',fontsize=18)\n",
        "plt.xlabel('k')\n",
        "plt.ylabel('r^2')\n",
        "plt.plot(k_vals,r2_vals,'ro-',label='r^2 values')\n",
        "plt.legend(loc='lower right', shadow=True)\n",
        "plt.axis([0,25,0,.5])\n",
        "plt.show()"
      ],
      "metadata": {
        "colab": {
          "base_uri": "https://localhost:8080/",
          "height": 344
        },
        "id": "PCpv-0mIWXei",
        "outputId": "c6f9496c-ef02-4f15-bb44-fd0c942cec5e"
      },
      "execution_count": 42,
      "outputs": [
        {
          "output_type": "stream",
          "name": "stdout",
          "text": [
            "MSE:  0.13876628979389857\n",
            "r2:  0.4435890470656286\n"
          ]
        },
        {
          "output_type": "display_data",
          "data": {
            "text/plain": [
              "<Figure size 432x288 with 1 Axes>"
            ],
            "image/png": "[encoded data removed]"
          },
          "metadata": {
            "needs_background": "light"
          }
        }
      ]
    },
    {
      "cell_type": "code",
      "source": [
        "# Creating the decision tree regression model \n",
        "dt = tree.DecisionTreeRegressor(random_state = 0)\n",
        "dt.fit(train_data_normalized,train_sln)\n",
        "predictions = dt.predict(test_data_normalized)\n",
        "\n",
        "print('MSE: ', metrics.mean_squared_error(test_sln, predictions))\n",
        "print('r2: ', metrics.r2_score(test_sln, predictions))\n",
        "\n",
        "# graphing the decision tree regression model\n",
        "import matplotlib.pyplot as plt\n",
        "%matplotlib inline\n",
        "\n",
        "max_depth_vals = range(1,25)\n",
        "r2_vals = []\n",
        "\n",
        "for max_depth_val in max_depth_vals:\n",
        "    dt = tree.DecisionTreeRegressor(random_state = 0, max_depth = max_depth_val)\n",
        "    dt.fit(train_data_normalized,train_sln)\n",
        "    predictions = dt.predict(test_data_normalized)\n",
        "    r2_val = sklearn.metrics.r2_score(test_sln,predictions)\n",
        "    r2_vals.append(r2_val)\n",
        "    \n",
        "plt.suptitle('Heart Data vs. Normalized Decision Tree Results',fontsize=18)\n",
        "plt.xlabel('max depth')\n",
        "plt.ylabel('r^2')\n",
        "plt.plot(max_depth_vals,r2_vals,'ro-',label='r^2 values')\n",
        "plt.legend(loc='lower right', shadow=True)\n",
        "plt.axis([0,25,0,.33])\n",
        "plt.show()"
      ],
      "metadata": {
        "colab": {
          "base_uri": "https://localhost:8080/",
          "height": 344
        },
        "id": "5haHX9d9cOWw",
        "outputId": "170df56d-905f-41cd-a794-3b6d91602769"
      },
      "execution_count": 46,
      "outputs": [
        {
          "output_type": "stream",
          "name": "stdout",
          "text": [
            "MSE:  0.19672131147540983\n",
            "r2:  0.2112068965517241\n"
          ]
        },
        {
          "output_type": "display_data",
          "data": {
            "text/plain": [
              "<Figure size 432x288 with 1 Axes>"
            ],
            "image/png": "[encoded data removed]"
          },
          "metadata": {
            "needs_background": "light"
          }
        }
      ]
    },
    {
      "cell_type": "markdown",
      "source": [
        "## Classification Models ##"
      ],
      "metadata": {
        "id": "GcFFjkGxdTr4"
      }
    },
    {
      "cell_type": "code",
      "source": [
        "# creating the classification model for knn\n",
        "neigh = neighbors.KNeighborsClassifier(n_neighbors=28) \n",
        "neigh.fit(train_data_normalized, train_sln)\n",
        "predictions = neigh.predict(test_data_normalized)\n",
        "\n",
        "# Measuring performance\n",
        "print(\"Accuracy:\", metrics.accuracy_score(test_sln,predictions))\n",
        "\n",
        "# Graphing the classification model for knn\n",
        "k_vals = range(1,31,2)\n",
        "accuracy_vals = []\n",
        "\n",
        "for k in k_vals:\n",
        "    neigh = neighbors.KNeighborsClassifier(weights=\"uniform\", n_neighbors=k)\n",
        "    neigh.fit(train_data_normalized, train_sln)\n",
        "    predictions = neigh.predict(test_data_normalized)\n",
        "    accuracy_val = sklearn.metrics.accuracy_score(test_sln,predictions)\n",
        "    accuracy_vals.append(accuracy_val)\n",
        "\n",
        "plt.suptitle('Heart Data vs. k -- Normalized kNN Results',fontsize=18)\n",
        "plt.xlabel('k')\n",
        "plt.ylabel('accuracy')\n",
        "plt.plot(k_vals,accuracy_vals,'ro-',label='accuracy values')\n",
        "plt.legend(loc='lower right', shadow=True)\n",
        "plt.axis([0,33,.68,.86])\n",
        "plt.show()"
      ],
      "metadata": {
        "colab": {
          "base_uri": "https://localhost:8080/",
          "height": 326
        },
        "id": "MiZXaFQWdUub",
        "outputId": "c10be17e-7ac7-48df-df4b-f156406be615"
      },
      "execution_count": 52,
      "outputs": [
        {
          "output_type": "stream",
          "name": "stdout",
          "text": [
            "Accuracy: 0.819672131147541\n"
          ]
        },
        {
          "output_type": "display_data",
          "data": {
            "text/plain": [
              "<Figure size 432x288 with 1 Axes>"
            ],
            "image/png": "[encoded data removed]"
          },
          "metadata": {
            "needs_background": "light"
          }
        }
      ]
    },
    {
      "cell_type": "code",
      "source": [
        "# creating the classification model for weighted knn\n",
        "neigh = neighbors.KNeighborsClassifier(weights=\"distance\", n_neighbors=28) \n",
        "neigh.fit(train_data_normalized, train_sln)\n",
        "predictions = neigh.predict(test_data_normalized)\n",
        "\n",
        "# Measuring performance\n",
        "print(\"Accuracy:\", metrics.accuracy_score(test_sln,predictions))\n",
        "\n",
        "# Graphing the classification model for weighted knn\n",
        "k_vals = range(1,30,2)\n",
        "accuracy_vals = []\n",
        "\n",
        "for k in k_vals:\n",
        "    neigh = neighbors.KNeighborsClassifier(weights=\"distance\", n_neighbors=k)\n",
        "    neigh.fit(train_data_normalized, train_sln)\n",
        "    predictions = neigh.predict(test_data_normalized)\n",
        "    accuracy_val = sklearn.metrics.accuracy_score(test_sln,predictions)\n",
        "    accuracy_vals.append(accuracy_val)\n",
        "\n",
        "plt.suptitle('Heart Data vs. Weighted k -- Normalized kNN Results',fontsize=18)\n",
        "plt.xlabel('k')\n",
        "plt.ylabel('accuracy')\n",
        "plt.plot(k_vals,accuracy_vals,'ro-',label='accuracy values')\n",
        "plt.legend(loc='lower right', shadow=True)\n",
        "plt.axis([0,30,.65,.85])\n",
        "plt.show()"
      ],
      "metadata": {
        "colab": {
          "base_uri": "https://localhost:8080/",
          "height": 326
        },
        "id": "N5qDtfHxdyqL",
        "outputId": "9d02e994-0622-4fad-e3f7-614f5847d390"
      },
      "execution_count": 54,
      "outputs": [
        {
          "output_type": "stream",
          "name": "stdout",
          "text": [
            "Accuracy: 0.819672131147541\n"
          ]
        },
        {
          "output_type": "display_data",
          "data": {
            "text/plain": [
              "<Figure size 432x288 with 1 Axes>"
            ],
            "image/png": "[encoded data removed]"
          },
          "metadata": {
            "needs_background": "light"
          }
        }
      ]
    },
    {
      "cell_type": "code",
      "source": [
        "# Creating the decision tree classification model\n",
        "dt = tree.DecisionTreeClassifier(random_state=41)\n",
        "dt.fit(train_data_normalized,train_sln)\n",
        "predictions = dt.predict(test_data_normalized)\n",
        "\n",
        "# Measuring performance\n",
        "print(\"Accuracy:\", metrics.accuracy_score(test_sln,predictions))\n",
        "\n",
        "# graphing the decision tree classification model\n",
        "import matplotlib.pyplot as plt\n",
        "%matplotlib inline\n",
        "\n",
        "max_depth_vals = range(1,15)\n",
        "accuracy_vals = []\n",
        "\n",
        "for max_depth_val in max_depth_vals:\n",
        "    dt = tree.DecisionTreeClassifier(random_state = 0, max_depth = max_depth_val)\n",
        "    dt.fit(train_data_normalized,train_sln)\n",
        "    predictions = dt.predict(test_data_normalized)\n",
        "    accuracy_val = sklearn.metrics.accuracy_score(test_sln,predictions)\n",
        "    accuracy_vals.append(accuracy_val)\n",
        "    \n",
        "plt.suptitle('Heart Data vs. Normalized Decision Tree Results',fontsize=18)\n",
        "plt.xlabel('max depth')\n",
        "plt.ylabel('accuracy')\n",
        "plt.plot(max_depth_vals,accuracy_vals,'ro-',label='accuracy values')\n",
        "plt.legend(loc='lower right', shadow=True)\n",
        "plt.axis([0,15,.6,.85])\n",
        "plt.show()"
      ],
      "metadata": {
        "colab": {
          "base_uri": "https://localhost:8080/",
          "height": 326
        },
        "id": "Mv1Kju1feFGp",
        "outputId": "92f6cbaf-be6c-48d2-8997-18f42da09a38"
      },
      "execution_count": 59,
      "outputs": [
        {
          "output_type": "stream",
          "name": "stdout",
          "text": [
            "Accuracy: 0.7704918032786885\n"
          ]
        },
        {
          "output_type": "display_data",
          "data": {
            "text/plain": [
              "<Figure size 432x288 with 1 Axes>"
            ],
            "image/png": "[encoded data removed]"
          },
          "metadata": {
            "needs_background": "light"
          }
        }
      ]
    },
    {
      "cell_type": "markdown",
      "source": [
        "#4. Analysis\n",
        "\n",
        "What did you discover? What insights/recommendations do you have? What did you find that was interesting? Which model was your best model, which models didn't work well? Why do you think this is? In general, I want a discussion of your experiment, the results, and what they mean."
      ],
      "metadata": {
        "id": "2Qu9bYPLmiv_"
      }
    },
    {
      "cell_type": "markdown",
      "source": [
        "*your answer here*"
      ],
      "metadata": {
        "id": "k17sKBZUmqIH"
      }
    },
    {
      "cell_type": "markdown",
      "source": [
        "# 5. Bumps in the Road\n",
        "What challenges did you encounter? How did you overcome these challenges?"
      ],
      "metadata": {
        "id": "TemAuKxlm6dQ"
      }
    },
    {
      "cell_type": "markdown",
      "source": [
        "*your answer here*"
      ],
      "metadata": {
        "id": "zXEVEG9FnHgQ"
      }
    }
  ]
}